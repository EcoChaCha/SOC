{
 "cells": [
  {
   "cell_type": "code",
   "execution_count": null,
   "id": "3c7962a8",
   "metadata": {},
   "outputs": [],
   "source": []
  },
  {
   "cell_type": "code",
   "execution_count": null,
   "id": "d0cdce50",
   "metadata": {},
   "outputs": [],
   "source": [
    "import numpy as np\n",
    "import pandas as pd\n",
    "import matplotlib.pylab as plt\n",
    "\n",
    "\n",
    "df_out =(pd.read_csv(r\"c:\\Users\\Navya Subba\\Desktop\\regime\\output.csv\"))\n",
    "\n",
    "pd.DataFrame(df_out)\n",
    "\n",
    "# #spread\n",
    "# spread=df_out['AskPriceL1']-df_out['BidPriceL1']\n",
    "# print(\"The spreads are\",'\\n',spread)\n",
    "# #mid price\n",
    "price=(df_out['AskPriceL1']+df_out['BidPriceL1'])/2\n",
    "# # print(\"The mid prices are\",'\\n',price)\n",
    "# #bookim=OBI_L1 = (BidQtyL1 - AskQtyL1) / (BidQtyL1 + AskQtyL1)\n",
    "\n",
    "# im=(df_out['BidQtyL1']-df_out['AskQtyL1'])/(df_out['BidQtyL1']+df_out['AskQtyL1'])\n",
    "# # print(\"the book imbalance is\",'\\n',im)\n",
    "# # full depth\n",
    "# bids = [f'BidPriceL{i}' for i in range(1, 21)]\n",
    "# ask= [f'AskPriceL{i}' for i in range(1,21)]\n",
    "# bidsq=[f'BidQtyL{i}' for i in range(1,21)]\n",
    "# askq=[f'AskQtyL{i}' for i in range(1,21)]\n",
    "\n",
    "# df_out['totalbid']=df_out[bids].sum(axis=1)\n",
    "# df_out['totalask']=df_out[ask].sum(axis=1)\n",
    "# df_out['totalaskq']=df_out[askq].sum(axis=1)\n",
    "# df_out['totalbidq']=df_out[bidsq].sum(axis=1)\n",
    "\n",
    "# OBI=((df_out['totalbid']-df_out['totalask'])/(df_out['totalbidq']+df_out['totalaskq']))\n",
    "# volatility = price.rolling(window=30).std()\n",
    "volatility = price.rolling(window=10).std()\n",
    "# df_out['Time']=pd.to_datetime(df_out['Time'])\n",
    "# plt.plot(df_out['Time'],volatility)\n",
    "# plt.xlabel('time')\n",
    "# plt.ylabel('Volatility')\n",
    "# plt.show()\n",
    "import os\n",
    "print(os.getcwd())\n",
    "\n"
   ]
  }
 ],
 "metadata": {
  "language_info": {
   "name": "python"
  }
 },
 "nbformat": 4,
 "nbformat_minor": 5
}
